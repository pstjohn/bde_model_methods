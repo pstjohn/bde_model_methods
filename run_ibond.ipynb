{
 "cells": [
  {
   "cell_type": "code",
   "execution_count": 1,
   "metadata": {},
   "outputs": [],
   "source": [
    "import numpy as np\n",
    "import pandas as pd\n",
    "\n",
    "import matplotlib.pyplot as plt\n",
    "import seaborn as sns\n",
    "sns.set(context='talk', style='ticks', color_codes=True)\n",
    "\n",
    "from tqdm._tqdm_notebook import tqdm_notebook\n",
    "tqdm_notebook.pandas()\n",
    "\n",
    "%matplotlib inline"
   ]
  },
  {
   "cell_type": "code",
   "execution_count": 2,
   "metadata": {},
   "outputs": [],
   "source": [
    "db = pd.read_csv('ibond/BDE_DB.csv', index_col=0)\n",
    "bde = pd.read_csv('rdf_data_190531.csv.gz', index_col=0).drop_duplicates(\n",
    "    subset=['molecule', 'fragment1', 'fragment2'])\n",
    "benchmark = pd.read_csv('ibond/ibond_benchmark.csv', index_col=0)"
   ]
  },
  {
   "cell_type": "code",
   "execution_count": 3,
   "metadata": {},
   "outputs": [],
   "source": [
    "# db.sort_values(by='BDE')"
   ]
  },
  {
   "cell_type": "code",
   "execution_count": 4,
   "metadata": {},
   "outputs": [
    {
     "data": {
      "text/html": [
       "<div>\n",
       "<style scoped>\n",
       "    .dataframe tbody tr th:only-of-type {\n",
       "        vertical-align: middle;\n",
       "    }\n",
       "\n",
       "    .dataframe tbody tr th {\n",
       "        vertical-align: top;\n",
       "    }\n",
       "\n",
       "    .dataframe thead th {\n",
       "        text-align: right;\n",
       "    }\n",
       "</style>\n",
       "<table border=\"1\" class=\"dataframe\">\n",
       "  <thead>\n",
       "    <tr style=\"text-align: right;\">\n",
       "      <th></th>\n",
       "      <th>ID</th>\n",
       "      <th>Compound</th>\n",
       "      <th>Radical1</th>\n",
       "      <th>Radical2</th>\n",
       "      <th>BDE</th>\n",
       "      <th>Error</th>\n",
       "      <th>Method</th>\n",
       "      <th>Solvent</th>\n",
       "      <th>B_Type</th>\n",
       "      <th>C_Struct</th>\n",
       "      <th>R1_Struct</th>\n",
       "      <th>R2_Struct</th>\n",
       "    </tr>\n",
       "  </thead>\n",
       "  <tbody>\n",
       "    <tr>\n",
       "      <th>0</th>\n",
       "      <td>1</td>\n",
       "      <td>C</td>\n",
       "      <td>[CH3]</td>\n",
       "      <td>[H]</td>\n",
       "      <td>105.0</td>\n",
       "      <td>0.1</td>\n",
       "      <td>VLPP</td>\n",
       "      <td>gas</td>\n",
       "      <td>C-H</td>\n",
       "      <td>1</td>\n",
       "      <td>1</td>\n",
       "      <td>2.0</td>\n",
       "    </tr>\n",
       "    <tr>\n",
       "      <th>1</th>\n",
       "      <td>2</td>\n",
       "      <td>CC</td>\n",
       "      <td>C[C]([H])[H]</td>\n",
       "      <td>[H]</td>\n",
       "      <td>100.5</td>\n",
       "      <td>0.3</td>\n",
       "      <td>VLPP</td>\n",
       "      <td>gas</td>\n",
       "      <td>C-H</td>\n",
       "      <td>2</td>\n",
       "      <td>3</td>\n",
       "      <td>2.0</td>\n",
       "    </tr>\n",
       "    <tr>\n",
       "      <th>2</th>\n",
       "      <td>3</td>\n",
       "      <td>CCC</td>\n",
       "      <td>C[C]([H])C</td>\n",
       "      <td>[H]</td>\n",
       "      <td>98.1</td>\n",
       "      <td>0.7</td>\n",
       "      <td>PIMS</td>\n",
       "      <td>gas</td>\n",
       "      <td>C-H</td>\n",
       "      <td>3</td>\n",
       "      <td>4</td>\n",
       "      <td>2.0</td>\n",
       "    </tr>\n",
       "    <tr>\n",
       "      <th>3</th>\n",
       "      <td>4</td>\n",
       "      <td>CCC</td>\n",
       "      <td>CC[C]([H])[H]</td>\n",
       "      <td>[H]</td>\n",
       "      <td>100.9</td>\n",
       "      <td>0.5</td>\n",
       "      <td>KM</td>\n",
       "      <td>gas</td>\n",
       "      <td>C-H</td>\n",
       "      <td>3</td>\n",
       "      <td>5</td>\n",
       "      <td>2.0</td>\n",
       "    </tr>\n",
       "    <tr>\n",
       "      <th>4</th>\n",
       "      <td>5</td>\n",
       "      <td>CC(C)C</td>\n",
       "      <td>C[C](C)C</td>\n",
       "      <td>[H]</td>\n",
       "      <td>95.7</td>\n",
       "      <td>0.7</td>\n",
       "      <td>FS</td>\n",
       "      <td>gas</td>\n",
       "      <td>C-H</td>\n",
       "      <td>4</td>\n",
       "      <td>6</td>\n",
       "      <td>2.0</td>\n",
       "    </tr>\n",
       "  </tbody>\n",
       "</table>\n",
       "</div>"
      ],
      "text/plain": [
       "   ID Compound       Radical1 Radical2    BDE  Error Method Solvent B_Type  \\\n",
       "0   1        C          [CH3]      [H]  105.0    0.1   VLPP     gas    C-H   \n",
       "1   2       CC   C[C]([H])[H]      [H]  100.5    0.3   VLPP     gas    C-H   \n",
       "2   3      CCC     C[C]([H])C      [H]   98.1    0.7   PIMS     gas    C-H   \n",
       "3   4      CCC  CC[C]([H])[H]      [H]  100.9    0.5     KM     gas    C-H   \n",
       "4   5   CC(C)C       C[C](C)C      [H]   95.7    0.7     FS     gas    C-H   \n",
       "\n",
       "   C_Struct  R1_Struct  R2_Struct  \n",
       "0         1          1        2.0  \n",
       "1         2          3        2.0  \n",
       "2         3          4        2.0  \n",
       "3         3          5        2.0  \n",
       "4         4          6        2.0  "
      ]
     },
     "execution_count": 4,
     "metadata": {},
     "output_type": "execute_result"
    }
   ],
   "source": [
    "db = db.drop([106, 227, 238, 243, 281, 282, 700, 748]).reset_index()  # drop YF's outliers\n",
    "db = db[db.ID.isin(benchmark.ID)]\n",
    "db = db.dropna(subset=['Compound', 'Radical1', 'Radical2'])\n",
    "db.head()"
   ]
  },
  {
   "cell_type": "code",
   "execution_count": 5,
   "metadata": {},
   "outputs": [],
   "source": [
    "from bde.fragment import canonicalize_smiles, fragment_iterator, enumerate_stereocenters"
   ]
  },
  {
   "cell_type": "code",
   "execution_count": 6,
   "metadata": {},
   "outputs": [],
   "source": [
    "db['Compound'] = db['Compound'].apply(canonicalize_smiles)\n",
    "db['Radical1'] = db['Radical1'].apply(canonicalize_smiles)\n",
    "db['Radical2'] = db['Radical2'].apply(canonicalize_smiles)\n",
    "\n",
    "db = db.rename(columns=\n",
    "          {'Compound': 'molecule',\n",
    "           'Radical1': 'fragment1',\n",
    "           'Radical2': 'fragment2',\n",
    "          })"
   ]
  },
  {
   "cell_type": "code",
   "execution_count": 7,
   "metadata": {},
   "outputs": [],
   "source": [
    "from rdkit import Chem\n",
    "\n",
    "def check_mol(smiles):\n",
    "    mol = Chem.MolFromSmiles(smiles)\n",
    "    for atom in mol.GetAtoms():\n",
    "        if atom.GetSymbol() not in ['C', 'H', 'N', 'O']:\n",
    "            return False\n",
    "        elif atom.GetFormalCharge() != 0:\n",
    "            return False\n",
    "    \n",
    "    return True\n",
    "\n",
    "db_valid = db[db.molecule.apply(check_mol)].copy()"
   ]
  },
  {
   "cell_type": "code",
   "execution_count": 8,
   "metadata": {},
   "outputs": [
    {
     "data": {
      "application/vnd.jupyter.widget-view+json": {
       "model_id": "e957801c598d49f3a6cda84c58307151",
       "version_major": 2,
       "version_minor": 0
      },
      "text/plain": [
       "HBox(children=(IntProgress(value=0, max=437), HTML(value='')))"
      ]
     },
     "metadata": {},
     "output_type": "display_data"
    },
    {
     "name": "stdout",
     "output_type": "stream",
     "text": [
      "\n"
     ]
    }
   ],
   "source": [
    "ibond_mols = db_valid.molecule.unique()\n",
    "\n",
    "def rdf_iterator():\n",
    "    for smiles in tqdm_notebook(ibond_mols):\n",
    "        for item in fragment_iterator(smiles):\n",
    "            yield item \n",
    "\n",
    "rdf = pd.DataFrame(rdf_iterator())"
   ]
  },
  {
   "cell_type": "code",
   "execution_count": 9,
   "metadata": {},
   "outputs": [],
   "source": [
    "rdf['radicals'] = rdf[['fragment1', 'fragment2']].apply(lambda x: str(sorted(list(x))), 1)\n",
    "rdf = rdf.drop_duplicates('radicals')\n",
    "db_valid['radicals'] = db_valid[['fragment1', 'fragment2']].apply(lambda x: str(sorted(list(x))), 1)"
   ]
  },
  {
   "cell_type": "code",
   "execution_count": 10,
   "metadata": {},
   "outputs": [],
   "source": [
    "db_merged = db_valid.merge(rdf[['bond_index', 'radicals']], on='radicals', how='left').dropna(subset=['bond_index'])\n",
    "db_merged['bond_index'] = db_merged.bond_index.astype(int)"
   ]
  },
  {
   "cell_type": "code",
   "execution_count": 11,
   "metadata": {},
   "outputs": [
    {
     "name": "stderr",
     "output_type": "stream",
     "text": [
      "Using TensorFlow backend.\n"
     ]
    }
   ],
   "source": [
    "from keras.backend.tensorflow_backend import set_session\n",
    "import tensorflow as tf\n",
    "config = tf.ConfigProto()\n",
    "config.gpu_options.allow_growth = True  # dynamically grow the memory used on the GPU\n",
    "sess = tf.Session(config=config)\n",
    "set_session(sess)"
   ]
  },
  {
   "cell_type": "code",
   "execution_count": 12,
   "metadata": {},
   "outputs": [
    {
     "name": "stderr",
     "output_type": "stream",
     "text": [
      "100%|██████████| 437/437 [00:00<00:00, 1799.81it/s]\n"
     ]
    }
   ],
   "source": [
    "import pickle\n",
    "import gzip\n",
    "\n",
    "with gzip.open('processed_inputs_190531.p.gz', 'rb') as f:\n",
    "    preprocessor_data = pickle.load(f)\n",
    "    \n",
    "preprocessor = preprocessor_data['preprocessor']\n",
    "inputs = preprocessor.predict(ibond_mols)"
   ]
  },
  {
   "cell_type": "code",
   "execution_count": 13,
   "metadata": {},
   "outputs": [],
   "source": [
    "import joblib\n",
    "from keras.models import load_model\n",
    "from nfp import custom_layers, GraphModel\n",
    "import warnings\n",
    "\n",
    "with warnings.catch_warnings():\n",
    "    warnings.simplefilter('ignore')\n",
    "    model = load_model('layer_runs2/n_message_6/best_model.hdf5', custom_objects=custom_layers)\n",
    "    embedding_model = GraphModel(model.inputs, [model.layers[-4].output])\n",
    "\n",
    "bond_embed_df = pd.read_csv('20190604_bonds_for_neighbors.csv.gz')\n",
    "nbrs_pipe = joblib.load('20190604_bond_embedding_nbrs.p.z')\n",
    "\n",
    "def pipe_kneighbors(pipe, X):\n",
    "    Xt = pipe.steps[0][-1].transform(X)\n",
    "    return pipe.steps[-1][-1].kneighbors(Xt)"
   ]
  },
  {
   "cell_type": "code",
   "execution_count": 14,
   "metadata": {},
   "outputs": [
    {
     "name": "stdout",
     "output_type": "stream",
     "text": [
      "4/4 [==============================] - 1s 184ms/step\n",
      "4/4 [==============================] - 1s 126ms/step\n"
     ]
    }
   ],
   "source": [
    "from preprocessor_utils import ConcatGraphSequence\n",
    "new_pred = model.predict_generator(\n",
    "    ConcatGraphSequence(inputs, batch_size=128, shuffle=False), verbose=1)\n",
    "\n",
    "new_embed = embedding_model.predict_generator(\n",
    "    ConcatGraphSequence(inputs, batch_size=128, shuffle=False), verbose=1)\n",
    "\n",
    "distances, indices = pipe_kneighbors(nbrs_pipe, new_embed)"
   ]
  },
  {
   "cell_type": "code",
   "execution_count": 15,
   "metadata": {},
   "outputs": [],
   "source": [
    "def inputs_to_dataframe(smiles, inputs):\n",
    "    molecule = np.repeat(np.array(smiles), np.stack([iinput['n_bond'] for iinput in inputs]))\n",
    "    bond_index = np.concatenate([iinput['bond_indices'] for iinput in inputs])\n",
    "    input_df = pd.DataFrame(np.vstack([molecule, bond_index]).T, columns=['molecule', 'bond_index'])\n",
    "    input_df['bond_index'] = input_df.bond_index.astype('int64')\n",
    "    \n",
    "    return input_df\n",
    "\n",
    "y_new_df = inputs_to_dataframe(ibond_mols, inputs)\n",
    "y_new_df['bde_pred'] = new_pred\n",
    "y_new_df['distance'] = np.log(distances).mean(1)"
   ]
  },
  {
   "cell_type": "code",
   "execution_count": 16,
   "metadata": {},
   "outputs": [
    {
     "data": {
      "text/html": [
       "<div>\n",
       "<style scoped>\n",
       "    .dataframe tbody tr th:only-of-type {\n",
       "        vertical-align: middle;\n",
       "    }\n",
       "\n",
       "    .dataframe tbody tr th {\n",
       "        vertical-align: top;\n",
       "    }\n",
       "\n",
       "    .dataframe thead th {\n",
       "        text-align: right;\n",
       "    }\n",
       "</style>\n",
       "<table border=\"1\" class=\"dataframe\">\n",
       "  <thead>\n",
       "    <tr style=\"text-align: right;\">\n",
       "      <th></th>\n",
       "      <th>molecule</th>\n",
       "      <th>bond_index</th>\n",
       "      <th>bde_pred</th>\n",
       "      <th>distance</th>\n",
       "    </tr>\n",
       "  </thead>\n",
       "  <tbody>\n",
       "    <tr>\n",
       "      <th>0</th>\n",
       "      <td>C</td>\n",
       "      <td>0</td>\n",
       "      <td>103.339211</td>\n",
       "      <td>3.829885</td>\n",
       "    </tr>\n",
       "    <tr>\n",
       "      <th>1</th>\n",
       "      <td>C</td>\n",
       "      <td>1</td>\n",
       "      <td>103.339211</td>\n",
       "      <td>3.829885</td>\n",
       "    </tr>\n",
       "    <tr>\n",
       "      <th>2</th>\n",
       "      <td>C</td>\n",
       "      <td>2</td>\n",
       "      <td>103.339211</td>\n",
       "      <td>3.829885</td>\n",
       "    </tr>\n",
       "    <tr>\n",
       "      <th>3</th>\n",
       "      <td>C</td>\n",
       "      <td>3</td>\n",
       "      <td>103.339211</td>\n",
       "      <td>3.829885</td>\n",
       "    </tr>\n",
       "    <tr>\n",
       "      <th>4</th>\n",
       "      <td>C#C</td>\n",
       "      <td>0</td>\n",
       "      <td>94.306419</td>\n",
       "      <td>3.545735</td>\n",
       "    </tr>\n",
       "  </tbody>\n",
       "</table>\n",
       "</div>"
      ],
      "text/plain": [
       "  molecule  bond_index    bde_pred  distance\n",
       "0        C           0  103.339211  3.829885\n",
       "1        C           1  103.339211  3.829885\n",
       "2        C           2  103.339211  3.829885\n",
       "3        C           3  103.339211  3.829885\n",
       "4      C#C           0   94.306419  3.545735"
      ]
     },
     "execution_count": 16,
     "metadata": {},
     "output_type": "execute_result"
    }
   ],
   "source": [
    "y_new_df = y_new_df.groupby(['molecule', 'bond_index']).mean().reset_index()\n",
    "y_new_df.head()"
   ]
  },
  {
   "cell_type": "code",
   "execution_count": 17,
   "metadata": {},
   "outputs": [
    {
     "data": {
      "text/html": [
       "<div>\n",
       "<style scoped>\n",
       "    .dataframe tbody tr th:only-of-type {\n",
       "        vertical-align: middle;\n",
       "    }\n",
       "\n",
       "    .dataframe tbody tr th {\n",
       "        vertical-align: top;\n",
       "    }\n",
       "\n",
       "    .dataframe thead th {\n",
       "        text-align: right;\n",
       "    }\n",
       "</style>\n",
       "<table border=\"1\" class=\"dataframe\">\n",
       "  <thead>\n",
       "    <tr style=\"text-align: right;\">\n",
       "      <th></th>\n",
       "      <th>ID</th>\n",
       "      <th>molecule</th>\n",
       "      <th>fragment1</th>\n",
       "      <th>fragment2</th>\n",
       "      <th>BDE</th>\n",
       "      <th>Error</th>\n",
       "      <th>Method</th>\n",
       "      <th>Solvent</th>\n",
       "      <th>B_Type</th>\n",
       "      <th>C_Struct</th>\n",
       "      <th>R1_Struct</th>\n",
       "      <th>R2_Struct</th>\n",
       "      <th>radicals</th>\n",
       "      <th>bond_index</th>\n",
       "      <th>bde_pred</th>\n",
       "      <th>distance</th>\n",
       "    </tr>\n",
       "  </thead>\n",
       "  <tbody>\n",
       "    <tr>\n",
       "      <th>0</th>\n",
       "      <td>1</td>\n",
       "      <td>C</td>\n",
       "      <td>[CH3]</td>\n",
       "      <td>[H]</td>\n",
       "      <td>105.0</td>\n",
       "      <td>0.1</td>\n",
       "      <td>VLPP</td>\n",
       "      <td>gas</td>\n",
       "      <td>C-H</td>\n",
       "      <td>1</td>\n",
       "      <td>1</td>\n",
       "      <td>2.0</td>\n",
       "      <td>['[CH3]', '[H]']</td>\n",
       "      <td>0</td>\n",
       "      <td>103.339211</td>\n",
       "      <td>3.829885</td>\n",
       "    </tr>\n",
       "    <tr>\n",
       "      <th>1</th>\n",
       "      <td>2</td>\n",
       "      <td>CC</td>\n",
       "      <td>[CH2]C</td>\n",
       "      <td>[H]</td>\n",
       "      <td>100.5</td>\n",
       "      <td>0.3</td>\n",
       "      <td>VLPP</td>\n",
       "      <td>gas</td>\n",
       "      <td>C-H</td>\n",
       "      <td>2</td>\n",
       "      <td>3</td>\n",
       "      <td>2.0</td>\n",
       "      <td>['[CH2]C', '[H]']</td>\n",
       "      <td>1</td>\n",
       "      <td>99.346176</td>\n",
       "      <td>3.749039</td>\n",
       "    </tr>\n",
       "    <tr>\n",
       "      <th>2</th>\n",
       "      <td>3</td>\n",
       "      <td>CCC</td>\n",
       "      <td>C[CH]C</td>\n",
       "      <td>[H]</td>\n",
       "      <td>98.1</td>\n",
       "      <td>0.7</td>\n",
       "      <td>PIMS</td>\n",
       "      <td>gas</td>\n",
       "      <td>C-H</td>\n",
       "      <td>3</td>\n",
       "      <td>4</td>\n",
       "      <td>2.0</td>\n",
       "      <td>['C[CH]C', '[H]']</td>\n",
       "      <td>5</td>\n",
       "      <td>96.833183</td>\n",
       "      <td>3.712079</td>\n",
       "    </tr>\n",
       "    <tr>\n",
       "      <th>3</th>\n",
       "      <td>4</td>\n",
       "      <td>CCC</td>\n",
       "      <td>[CH2]CC</td>\n",
       "      <td>[H]</td>\n",
       "      <td>100.9</td>\n",
       "      <td>0.5</td>\n",
       "      <td>KM</td>\n",
       "      <td>gas</td>\n",
       "      <td>C-H</td>\n",
       "      <td>3</td>\n",
       "      <td>5</td>\n",
       "      <td>2.0</td>\n",
       "      <td>['[CH2]CC', '[H]']</td>\n",
       "      <td>2</td>\n",
       "      <td>100.117332</td>\n",
       "      <td>3.752526</td>\n",
       "    </tr>\n",
       "    <tr>\n",
       "      <th>4</th>\n",
       "      <td>5</td>\n",
       "      <td>CC(C)C</td>\n",
       "      <td>C[C](C)C</td>\n",
       "      <td>[H]</td>\n",
       "      <td>95.7</td>\n",
       "      <td>0.7</td>\n",
       "      <td>FS</td>\n",
       "      <td>gas</td>\n",
       "      <td>C-H</td>\n",
       "      <td>4</td>\n",
       "      <td>6</td>\n",
       "      <td>2.0</td>\n",
       "      <td>['C[C](C)C', '[H]']</td>\n",
       "      <td>6</td>\n",
       "      <td>95.093994</td>\n",
       "      <td>3.733527</td>\n",
       "    </tr>\n",
       "  </tbody>\n",
       "</table>\n",
       "</div>"
      ],
      "text/plain": [
       "   ID molecule fragment1 fragment2    BDE  Error Method Solvent B_Type  \\\n",
       "0   1        C     [CH3]       [H]  105.0    0.1   VLPP     gas    C-H   \n",
       "1   2       CC    [CH2]C       [H]  100.5    0.3   VLPP     gas    C-H   \n",
       "2   3      CCC    C[CH]C       [H]   98.1    0.7   PIMS     gas    C-H   \n",
       "3   4      CCC   [CH2]CC       [H]  100.9    0.5     KM     gas    C-H   \n",
       "4   5   CC(C)C  C[C](C)C       [H]   95.7    0.7     FS     gas    C-H   \n",
       "\n",
       "   C_Struct  R1_Struct  R2_Struct             radicals  bond_index  \\\n",
       "0         1          1        2.0     ['[CH3]', '[H]']           0   \n",
       "1         2          3        2.0    ['[CH2]C', '[H]']           1   \n",
       "2         3          4        2.0    ['C[CH]C', '[H]']           5   \n",
       "3         3          5        2.0   ['[CH2]CC', '[H]']           2   \n",
       "4         4          6        2.0  ['C[C](C)C', '[H]']           6   \n",
       "\n",
       "     bde_pred  distance  \n",
       "0  103.339211  3.829885  \n",
       "1   99.346176  3.749039  \n",
       "2   96.833183  3.712079  \n",
       "3  100.117332  3.752526  \n",
       "4   95.093994  3.733527  "
      ]
     },
     "execution_count": 17,
     "metadata": {},
     "output_type": "execute_result"
    }
   ],
   "source": [
    "db_with_pred = db_merged.merge(\n",
    "    y_new_df[['molecule', 'bond_index', 'bde_pred', 'distance']],\n",
    "    on=['molecule', 'bond_index'], how='left')\n",
    "\n",
    "db_with_pred.head()"
   ]
  },
  {
   "cell_type": "code",
   "execution_count": 18,
   "metadata": {
    "scrolled": true
   },
   "outputs": [
    {
     "data": {
      "image/png": "[encoded data removed]",
      "text/plain": [
       "<Figure size 648x288 with 2 Axes>"
      ]
     },
     "metadata": {
      "needs_background": "light"
     },
     "output_type": "display_data"
    }
   ],
   "source": [
    "fig = plt.figure(figsize=(9,4))\n",
    "ax = fig.add_subplot(121, aspect='equal')\n",
    "plt.plot(db_with_pred.BDE, db_with_pred.bde_pred, '.', ms=2.5)\n",
    "plt.plot([25, 150], [25, 150], '--', zorder=0, color='.6', lw=1.4)\n",
    "\n",
    "ax.text(.05, .875,\n",
    "        'MAE: {:0.2f} kcal/mol'.format(\n",
    "            (db_with_pred.BDE - db_with_pred.bde_pred).abs().mean()),\n",
    "        transform=ax.transAxes, ha='left', va='top', fontsize='large')\n",
    "\n",
    "ax.set_yticks([0, 50, 100, 150])\n",
    "ax.set_xticks([0, 50, 100, 150])\n",
    "\n",
    "\n",
    "ax.set_ylabel('Predicted BDE (ML)')\n",
    "ax.set_xlabel('Experimental BDE (kcal/mol)')\n",
    "ax.set_title('iBond Database Prediction')\n",
    "\n",
    "\n",
    "ax2 = fig.add_subplot(122)\n",
    "ax2.hist((db_with_pred.BDE - db_with_pred.bde_pred).dropna(), bins=21, range=(-10, 10), density=True)\n",
    "\n",
    "ax2.set_title('BDE Error')\n",
    "ax2.set_ylabel('Frequency')\n",
    "ax2.set_xlabel('Deviation (kcal/mol)')\n",
    "ax2.set_xticks([-10, -5, 0, 5, 10])\n",
    "\n",
    "plt.tight_layout()\n",
    "sns.despine(trim=True, offset=10)\n",
    "plt.savefig('ibond.svg', dpi=500)"
   ]
  }
 ],
 "metadata": {
  "kernelspec": {
   "display_name": "Python 3",
   "language": "python",
   "name": "python3"
  },
  "language_info": {
   "codemirror_mode": {
    "name": "ipython",
    "version": 3
   },
   "file_extension": ".py",
   "mimetype": "text/x-python",
   "name": "python",
   "nbconvert_exporter": "python",
   "pygments_lexer": "ipython3",
   "version": "3.7.3"
  }
 },
 "nbformat": 4,
 "nbformat_minor": 2
}
