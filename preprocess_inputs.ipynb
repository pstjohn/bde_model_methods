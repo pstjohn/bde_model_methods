{
 "cells": [
  {
   "cell_type": "code",
   "execution_count": 1,
   "metadata": {},
   "outputs": [],
   "source": [
    "import numpy as np\n",
    "import pandas as pd\n",
    "\n",
    "import matplotlib.pyplot as plt\n",
    "import seaborn as sns\n",
    "sns.set(context='talk', style='ticks', color_codes=True)\n",
    "\n",
    "from tqdm._tqdm_notebook import tqdm_notebook\n",
    "tqdm_notebook.pandas()\n",
    "\n",
    "%matplotlib inline"
   ]
  },
  {
   "cell_type": "code",
   "execution_count": 2,
   "metadata": {},
   "outputs": [],
   "source": [
    "bde = pd.read_csv('rdf_data_190531.csv.gz', index_col=0)\n",
    "# bde_large = pd.read_csv('rdf_large_190409.csv.gz', index_col=0)"
   ]
  },
  {
   "cell_type": "code",
   "execution_count": 3,
   "metadata": {},
   "outputs": [
    {
     "data": {
      "text/plain": [
       "(484907, 7)"
      ]
     },
     "execution_count": 3,
     "metadata": {},
     "output_type": "execute_result"
    }
   ],
   "source": [
    "bde.shape"
   ]
  },
  {
   "cell_type": "code",
   "execution_count": 4,
   "metadata": {},
   "outputs": [
    {
     "data": {
      "text/plain": [
       "(290664, 7)"
      ]
     },
     "execution_count": 4,
     "metadata": {},
     "output_type": "execute_result"
    }
   ],
   "source": [
    "bde.drop_duplicates(subset=['molecule', 'fragment1', 'fragment2']).shape"
   ]
  },
  {
   "cell_type": "code",
   "execution_count": 5,
   "metadata": {},
   "outputs": [
    {
     "data": {
      "text/plain": [
       "C-H    321949\n",
       "C-C     71166\n",
       "H-N     27314\n",
       "C-N     24707\n",
       "C-O     24354\n",
       "H-O     11884\n",
       "N-O      1634\n",
       "N-N      1597\n",
       "O-O       302\n",
       "Name: bond_type, dtype: int64"
      ]
     },
     "execution_count": 5,
     "metadata": {},
     "output_type": "execute_result"
    }
   ],
   "source": [
    "# Get bond types corresponding to BDE measurements\n",
    "bde_bond_types = bde.bond_type.value_counts()\n",
    "bde_bond_types"
   ]
  },
  {
   "cell_type": "code",
   "execution_count": 6,
   "metadata": {},
   "outputs": [
    {
     "data": {
      "text/html": [
       "<div>\n",
       "<style scoped>\n",
       "    .dataframe tbody tr th:only-of-type {\n",
       "        vertical-align: middle;\n",
       "    }\n",
       "\n",
       "    .dataframe tbody tr th {\n",
       "        vertical-align: top;\n",
       "    }\n",
       "\n",
       "    .dataframe thead th {\n",
       "        text-align: right;\n",
       "    }\n",
       "</style>\n",
       "<table border=\"1\" class=\"dataframe\">\n",
       "  <thead>\n",
       "    <tr style=\"text-align: right;\">\n",
       "      <th></th>\n",
       "      <th>molecule</th>\n",
       "      <th>bond_index</th>\n",
       "      <th>fragment1</th>\n",
       "      <th>fragment2</th>\n",
       "      <th>bde</th>\n",
       "      <th>bond_type</th>\n",
       "      <th>delta_stereo</th>\n",
       "    </tr>\n",
       "    <tr>\n",
       "      <th>rid</th>\n",
       "      <th></th>\n",
       "      <th></th>\n",
       "      <th></th>\n",
       "      <th></th>\n",
       "      <th></th>\n",
       "      <th></th>\n",
       "      <th></th>\n",
       "    </tr>\n",
       "  </thead>\n",
       "  <tbody>\n",
       "    <tr>\n",
       "      <th>1</th>\n",
       "      <td>NCCCC(=O)O</td>\n",
       "      <td>0</td>\n",
       "      <td>[CH2]CCC(=O)O</td>\n",
       "      <td>[NH2]</td>\n",
       "      <td>87.599001</td>\n",
       "      <td>C-N</td>\n",
       "      <td>0</td>\n",
       "    </tr>\n",
       "    <tr>\n",
       "      <th>2</th>\n",
       "      <td>NCCCC(=O)O</td>\n",
       "      <td>1</td>\n",
       "      <td>[CH2]CC(=O)O</td>\n",
       "      <td>[CH2]N</td>\n",
       "      <td>82.344241</td>\n",
       "      <td>C-C</td>\n",
       "      <td>0</td>\n",
       "    </tr>\n",
       "    <tr>\n",
       "      <th>3</th>\n",
       "      <td>NCCCC(=O)O</td>\n",
       "      <td>2</td>\n",
       "      <td>[CH2]C(=O)O</td>\n",
       "      <td>[CH2]CN</td>\n",
       "      <td>86.313863</td>\n",
       "      <td>C-C</td>\n",
       "      <td>0</td>\n",
       "    </tr>\n",
       "    <tr>\n",
       "      <th>4</th>\n",
       "      <td>NCCCC(=O)O</td>\n",
       "      <td>3</td>\n",
       "      <td>O=[C]O</td>\n",
       "      <td>[CH2]CCN</td>\n",
       "      <td>95.898435</td>\n",
       "      <td>C-C</td>\n",
       "      <td>0</td>\n",
       "    </tr>\n",
       "    <tr>\n",
       "      <th>5</th>\n",
       "      <td>NCCCC(=O)O</td>\n",
       "      <td>5</td>\n",
       "      <td>NCCC[C]=O</td>\n",
       "      <td>[OH]</td>\n",
       "      <td>111.408575</td>\n",
       "      <td>C-O</td>\n",
       "      <td>0</td>\n",
       "    </tr>\n",
       "  </tbody>\n",
       "</table>\n",
       "</div>"
      ],
      "text/plain": [
       "       molecule  bond_index      fragment1 fragment2         bde bond_type  \\\n",
       "rid                                                                          \n",
       "1    NCCCC(=O)O           0  [CH2]CCC(=O)O     [NH2]   87.599001       C-N   \n",
       "2    NCCCC(=O)O           1   [CH2]CC(=O)O    [CH2]N   82.344241       C-C   \n",
       "3    NCCCC(=O)O           2    [CH2]C(=O)O   [CH2]CN   86.313863       C-C   \n",
       "4    NCCCC(=O)O           3         O=[C]O  [CH2]CCN   95.898435       C-C   \n",
       "5    NCCCC(=O)O           5      NCCC[C]=O      [OH]  111.408575       C-O   \n",
       "\n",
       "     delta_stereo  \n",
       "rid                \n",
       "1               0  \n",
       "2               0  \n",
       "3               0  \n",
       "4               0  \n",
       "5               0  "
      ]
     },
     "execution_count": 6,
     "metadata": {},
     "output_type": "execute_result"
    }
   ],
   "source": [
    "bde.head()"
   ]
  },
  {
   "cell_type": "code",
   "execution_count": 7,
   "metadata": {},
   "outputs": [
    {
     "data": {
      "image/png": "[encoded data removed]",
      "text/plain": [
       "<Figure size 648x648 with 9 Axes>"
      ]
     },
     "metadata": {
      "needs_background": "light"
     },
     "output_type": "display_data"
    }
   ],
   "source": [
    "with sns.plotting_context('notebook'):\n",
    "    fig, axmatrix = plt.subplots(nrows=3, ncols=3, figsize=(9, 9), sharey=False, sharex=False)\n",
    "\n",
    "    for (btype, df), ax in zip(bde.groupby('bond_type'), axmatrix.flatten()):\n",
    "        ax.hist(df['bde'], density=True)\n",
    "        ax.set_title(btype)\n",
    "\n",
    "    plt.tight_layout(h_pad=2)\n",
    "    sns.despine(offset=10)"
   ]
  },
  {
   "cell_type": "code",
   "execution_count": 8,
   "metadata": {},
   "outputs": [
    {
     "data": {
      "text/plain": [
       "42577"
      ]
     },
     "execution_count": 8,
     "metadata": {},
     "output_type": "execute_result"
    }
   ],
   "source": [
    "len(bde.molecule.unique())"
   ]
  },
  {
   "cell_type": "code",
   "execution_count": 9,
   "metadata": {},
   "outputs": [],
   "source": [
    "from sklearn.model_selection import train_test_split\n",
    "\n",
    "train, test = train_test_split(bde.molecule.unique(), test_size=1000, random_state=1)\n",
    "train, valid = train_test_split(train, test_size=1000, random_state=1)"
   ]
  },
  {
   "cell_type": "code",
   "execution_count": 10,
   "metadata": {},
   "outputs": [
    {
     "name": "stderr",
     "output_type": "stream",
     "text": [
      "Using TensorFlow backend.\n"
     ]
    }
   ],
   "source": [
    "from nfp.preprocessing import SmilesPreprocessor, GraphSequence\n",
    "from nfp.preprocessing import features\n",
    "from nfp.preprocessing import get_ring_size\n",
    "\n",
    "from preprocessor_utils import (\n",
    "    SmilesBondIndexPreprocessor, ConcatGraphSequence, atom_featurizer, bond_features)"
   ]
  },
  {
   "cell_type": "code",
   "execution_count": 11,
   "metadata": {},
   "outputs": [
    {
     "name": "stderr",
     "output_type": "stream",
     "text": [
      "100%|██████████| 40577/40577 [00:15<00:00, 2575.65it/s]\n",
      "100%|██████████| 1000/1000 [00:00<00:00, 2624.72it/s]\n"
     ]
    }
   ],
   "source": [
    "preprocessor = SmilesBondIndexPreprocessor(\n",
    "    explicit_hs=True,\n",
    "    atom_features=atom_featurizer,\n",
    "    bond_features=bond_features)\n",
    "\n",
    "inputs_train = preprocessor.fit(train)\n",
    "inputs_valid = preprocessor.predict(valid)\n",
    "# inputs_test = preprocessor.predict(test)"
   ]
  },
  {
   "cell_type": "code",
   "execution_count": 12,
   "metadata": {},
   "outputs": [
    {
     "data": {
      "text/plain": [
       "99"
      ]
     },
     "execution_count": 12,
     "metadata": {},
     "output_type": "execute_result"
    }
   ],
   "source": [
    "preprocessor.atom_classes"
   ]
  },
  {
   "cell_type": "code",
   "execution_count": 13,
   "metadata": {},
   "outputs": [
    {
     "data": {
      "text/plain": [
       "104"
      ]
     },
     "execution_count": 13,
     "metadata": {},
     "output_type": "execute_result"
    }
   ],
   "source": [
    "preprocessor.bond_classes"
   ]
  },
  {
   "cell_type": "code",
   "execution_count": 14,
   "metadata": {},
   "outputs": [
    {
     "data": {
      "application/vnd.jupyter.widget-view+json": {
       "model_id": "4e060391bec3409d9c58aa40e0c669f0",
       "version_major": 2,
       "version_minor": 0
      },
      "text/plain": [
       "HBox(children=(IntProgress(value=0, max=40577), HTML(value='')))"
      ]
     },
     "metadata": {},
     "output_type": "display_data"
    },
    {
     "name": "stdout",
     "output_type": "stream",
     "text": [
      "\n"
     ]
    },
    {
     "data": {
      "application/vnd.jupyter.widget-view+json": {
       "model_id": "2230e15e31ea41eebe7815854f4cd403",
       "version_major": 2,
       "version_minor": 0
      },
      "text/plain": [
       "HBox(children=(IntProgress(value=0, max=1000), HTML(value='')))"
      ]
     },
     "metadata": {},
     "output_type": "display_data"
    },
    {
     "name": "stdout",
     "output_type": "stream",
     "text": [
      "\n"
     ]
    }
   ],
   "source": [
    "def get_df(iinput, smiles, i):\n",
    "    idf = pd.DataFrame(iinput['bond_indices'], columns=['bond_index'])\n",
    "    idf['preprocessor_class'] = iinput['bond']\n",
    "    idf['molecule'] = smiles\n",
    "    idf['mol_index'] = i\n",
    "    return idf\n",
    "\n",
    "y_train_df = pd.concat([\n",
    "    get_df(iinput, smiles, i) for i, (iinput, smiles)\n",
    "    in enumerate(zip(tqdm_notebook(inputs_train), train))])\n",
    "\n",
    "y_valid_df = pd.concat([\n",
    "    get_df(iinput, smiles, i) for i, (iinput, smiles)\n",
    "    in enumerate(zip(tqdm_notebook(inputs_valid), valid))])"
   ]
  },
  {
   "cell_type": "code",
   "execution_count": 15,
   "metadata": {},
   "outputs": [
    {
     "data": {
      "text/plain": [
       "(1604572, 4)"
      ]
     },
     "execution_count": 15,
     "metadata": {},
     "output_type": "execute_result"
    }
   ],
   "source": [
    "y_train_df.shape"
   ]
  },
  {
   "cell_type": "code",
   "execution_count": 17,
   "metadata": {},
   "outputs": [],
   "source": [
    "y_train_df = y_train_df.merge(bde, how='left', left_on=['bond_index', 'molecule'],\n",
    "                              right_on=['bond_index', 'molecule'])\n",
    "y_valid_df = y_valid_df.merge(bde, how='left', left_on=['bond_index', 'molecule'],\n",
    "                              right_on=['bond_index', 'molecule'])"
   ]
  },
  {
   "cell_type": "code",
   "execution_count": 18,
   "metadata": {},
   "outputs": [
    {
     "data": {
      "text/html": [
       "<div>\n",
       "<style scoped>\n",
       "    .dataframe tbody tr th:only-of-type {\n",
       "        vertical-align: middle;\n",
       "    }\n",
       "\n",
       "    .dataframe tbody tr th {\n",
       "        vertical-align: top;\n",
       "    }\n",
       "\n",
       "    .dataframe thead th {\n",
       "        text-align: right;\n",
       "    }\n",
       "</style>\n",
       "<table border=\"1\" class=\"dataframe\">\n",
       "  <thead>\n",
       "    <tr style=\"text-align: right;\">\n",
       "      <th></th>\n",
       "      <th>bond_index</th>\n",
       "      <th>preprocessor_class</th>\n",
       "      <th>molecule</th>\n",
       "      <th>mol_index</th>\n",
       "      <th>fragment1</th>\n",
       "      <th>fragment2</th>\n",
       "      <th>bde</th>\n",
       "      <th>bond_type</th>\n",
       "      <th>delta_stereo</th>\n",
       "    </tr>\n",
       "  </thead>\n",
       "  <tbody>\n",
       "    <tr>\n",
       "      <th>0</th>\n",
       "      <td>0</td>\n",
       "      <td>2</td>\n",
       "      <td>CC[C@H](C)CON</td>\n",
       "      <td>0</td>\n",
       "      <td>[CH2][C@H](C)CON</td>\n",
       "      <td>[CH3]</td>\n",
       "      <td>89.000229</td>\n",
       "      <td>C-C</td>\n",
       "      <td>0.0</td>\n",
       "    </tr>\n",
       "    <tr>\n",
       "      <th>1</th>\n",
       "      <td>6</td>\n",
       "      <td>3</td>\n",
       "      <td>CC[C@H](C)CON</td>\n",
       "      <td>0</td>\n",
       "      <td>[H]</td>\n",
       "      <td>[CH2]C[C@H](C)CON</td>\n",
       "      <td>99.234273</td>\n",
       "      <td>C-H</td>\n",
       "      <td>0.0</td>\n",
       "    </tr>\n",
       "    <tr>\n",
       "      <th>2</th>\n",
       "      <td>7</td>\n",
       "      <td>3</td>\n",
       "      <td>CC[C@H](C)CON</td>\n",
       "      <td>0</td>\n",
       "      <td>[H]</td>\n",
       "      <td>[CH2]C[C@H](C)CON</td>\n",
       "      <td>99.234273</td>\n",
       "      <td>C-H</td>\n",
       "      <td>0.0</td>\n",
       "    </tr>\n",
       "    <tr>\n",
       "      <th>3</th>\n",
       "      <td>8</td>\n",
       "      <td>3</td>\n",
       "      <td>CC[C@H](C)CON</td>\n",
       "      <td>0</td>\n",
       "      <td>[H]</td>\n",
       "      <td>[CH2]C[C@H](C)CON</td>\n",
       "      <td>99.234273</td>\n",
       "      <td>C-H</td>\n",
       "      <td>0.0</td>\n",
       "    </tr>\n",
       "    <tr>\n",
       "      <th>4</th>\n",
       "      <td>0</td>\n",
       "      <td>2</td>\n",
       "      <td>CC[C@H](C)CON</td>\n",
       "      <td>0</td>\n",
       "      <td>[CH2][C@H](C)CON</td>\n",
       "      <td>[CH3]</td>\n",
       "      <td>89.000229</td>\n",
       "      <td>C-C</td>\n",
       "      <td>0.0</td>\n",
       "    </tr>\n",
       "  </tbody>\n",
       "</table>\n",
       "</div>"
      ],
      "text/plain": [
       "   bond_index  preprocessor_class       molecule  mol_index         fragment1  \\\n",
       "0           0                   2  CC[C@H](C)CON          0  [CH2][C@H](C)CON   \n",
       "1           6                   3  CC[C@H](C)CON          0               [H]   \n",
       "2           7                   3  CC[C@H](C)CON          0               [H]   \n",
       "3           8                   3  CC[C@H](C)CON          0               [H]   \n",
       "4           0                   2  CC[C@H](C)CON          0  [CH2][C@H](C)CON   \n",
       "\n",
       "           fragment2        bde bond_type  delta_stereo  \n",
       "0              [CH3]  89.000229       C-C           0.0  \n",
       "1  [CH2]C[C@H](C)CON  99.234273       C-H           0.0  \n",
       "2  [CH2]C[C@H](C)CON  99.234273       C-H           0.0  \n",
       "3  [CH2]C[C@H](C)CON  99.234273       C-H           0.0  \n",
       "4              [CH3]  89.000229       C-C           0.0  "
      ]
     },
     "execution_count": 18,
     "metadata": {},
     "output_type": "execute_result"
    }
   ],
   "source": [
    "y_train_df.head()"
   ]
  },
  {
   "cell_type": "code",
   "execution_count": 20,
   "metadata": {},
   "outputs": [
    {
     "data": {
      "text/plain": [
       "40577"
      ]
     },
     "execution_count": 20,
     "metadata": {},
     "output_type": "execute_result"
    }
   ],
   "source": [
    "len(y_train_df.molecule.unique())"
   ]
  },
  {
   "cell_type": "code",
   "execution_count": 21,
   "metadata": {},
   "outputs": [],
   "source": [
    "y_train_list = y_train_df.groupby('mol_index')['bde'].apply(\n",
    "    lambda x: x.values.tolist()).values.tolist()\n",
    "y_valid_list = y_valid_df.groupby('mol_index')['bde'].apply(\n",
    "    lambda x: x.values.tolist()).values.tolist()"
   ]
  },
  {
   "cell_type": "code",
   "execution_count": 22,
   "metadata": {},
   "outputs": [
    {
     "data": {
      "text/plain": [
       "1000"
      ]
     },
     "execution_count": 22,
     "metadata": {},
     "output_type": "execute_result"
    }
   ],
   "source": [
    "len(y_valid_list)"
   ]
  },
  {
   "cell_type": "code",
   "execution_count": 23,
   "metadata": {},
   "outputs": [
    {
     "name": "stderr",
     "output_type": "stream",
     "text": [
      "100%|██████████| 1000/1000 [00:00<00:00, 2627.05it/s]"
     ]
    },
    {
     "name": "stdout",
     "output_type": "stream",
     "text": [
      "[]\n"
     ]
    },
    {
     "name": "stderr",
     "output_type": "stream",
     "text": [
      "\n"
     ]
    }
   ],
   "source": [
    "inputs_new = preprocessor.predict(test)\n",
    "\n",
    "def check_input(iinput):\n",
    "    if 1 in iinput['bond']:\n",
    "        return False\n",
    "    if 1 in iinput['atom']:\n",
    "        return False\n",
    "    else:\n",
    "        return True    \n",
    "\n",
    "is_valid = np.array([check_input(i) for i in inputs_new])\n",
    "print(test[~is_valid])\n",
    "\n",
    "inputs_new = [i for i in inputs_new if check_input(i)]\n",
    "test_smiles = test[is_valid]"
   ]
  },
  {
   "cell_type": "code",
   "execution_count": 24,
   "metadata": {},
   "outputs": [],
   "source": [
    "import pickle\n",
    "import gzip\n",
    "\n",
    "with gzip.open('processed_inputs_190531.p.gz', 'wb') as f:\n",
    "    pickle.dump({\n",
    "        'preprocessor': preprocessor,\n",
    "        'train': [inputs_train, y_train_list],\n",
    "        'valid': [inputs_valid, y_valid_list],\n",
    "        'train_smiles': train,\n",
    "        'valid_smiles': valid,\n",
    "        'test_smiles': test,\n",
    "        'train_df': y_train_df,\n",
    "        'valid_df': y_valid_df,\n",
    "    }, f)"
   ]
  }
 ],
 "metadata": {
  "kernelspec": {
   "display_name": "Python 3",
   "language": "python",
   "name": "python3"
  },
  "language_info": {
   "codemirror_mode": {
    "name": "ipython",
    "version": 3
   },
   "file_extension": ".py",
   "mimetype": "text/x-python",
   "name": "python",
   "nbconvert_exporter": "python",
   "pygments_lexer": "ipython3",
   "version": "3.7.3"
  }
 },
 "nbformat": 4,
 "nbformat_minor": 2
}
