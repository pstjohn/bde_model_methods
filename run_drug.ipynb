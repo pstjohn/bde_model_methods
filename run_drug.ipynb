{
 "cells": [
  {
   "cell_type": "code",
   "execution_count": 1,
   "metadata": {},
   "outputs": [],
   "source": [
    "import numpy as np\n",
    "import pandas as pd\n",
    "\n",
    "import matplotlib.pyplot as plt\n",
    "import seaborn as sns\n",
    "sns.set(context='talk', style='ticks', color_codes=True)\n",
    "\n",
    "from tqdm._tqdm_notebook import tqdm_notebook\n",
    "tqdm_notebook.pandas()\n",
    "\n",
    "%matplotlib inline"
   ]
  },
  {
   "cell_type": "code",
   "execution_count": 2,
   "metadata": {},
   "outputs": [
    {
     "data": {
      "text/html": [
       "<div>\n",
       "<style scoped>\n",
       "    .dataframe tbody tr th:only-of-type {\n",
       "        vertical-align: middle;\n",
       "    }\n",
       "\n",
       "    .dataframe tbody tr th {\n",
       "        vertical-align: top;\n",
       "    }\n",
       "\n",
       "    .dataframe thead th {\n",
       "        text-align: right;\n",
       "    }\n",
       "</style>\n",
       "<table border=\"1\" class=\"dataframe\">\n",
       "  <thead>\n",
       "    <tr style=\"text-align: right;\">\n",
       "      <th></th>\n",
       "      <th>rid</th>\n",
       "      <th>molecule</th>\n",
       "      <th>bond_index</th>\n",
       "      <th>fragment1</th>\n",
       "      <th>fragment2</th>\n",
       "      <th>bde</th>\n",
       "      <th>bond_type</th>\n",
       "      <th>delta_stereo</th>\n",
       "    </tr>\n",
       "  </thead>\n",
       "  <tbody>\n",
       "    <tr>\n",
       "      <th>0</th>\n",
       "      <td>848178</td>\n",
       "      <td>CCN(C(C)=O)c1cccc(-c2ccnc3c(C#N)cnn23)c1</td>\n",
       "      <td>28</td>\n",
       "      <td>[H]</td>\n",
       "      <td>C[CH]N(C(C)=O)c1cccc(-c2ccnc3c(C#N)cnn23)c1</td>\n",
       "      <td>92.541262</td>\n",
       "      <td>C-H</td>\n",
       "      <td>0</td>\n",
       "    </tr>\n",
       "    <tr>\n",
       "      <th>2</th>\n",
       "      <td>848183</td>\n",
       "      <td>CCN(C(C)=O)c1cccc(-c2ccnc3c(C#N)cnn23)c1</td>\n",
       "      <td>33</td>\n",
       "      <td>[H]</td>\n",
       "      <td>CCN(C(C)=O)c1[c]ccc(-c2ccnc3c(C#N)cnn23)c1</td>\n",
       "      <td>111.369042</td>\n",
       "      <td>C-H</td>\n",
       "      <td>0</td>\n",
       "    </tr>\n",
       "    <tr>\n",
       "      <th>3</th>\n",
       "      <td>848184</td>\n",
       "      <td>CCN(C(C)=O)c1cccc(-c2ccnc3c(C#N)cnn23)c1</td>\n",
       "      <td>34</td>\n",
       "      <td>[H]</td>\n",
       "      <td>CCN(C(C)=O)c1c[c]cc(-c2ccnc3c(C#N)cnn23)c1</td>\n",
       "      <td>113.550264</td>\n",
       "      <td>C-H</td>\n",
       "      <td>0</td>\n",
       "    </tr>\n",
       "    <tr>\n",
       "      <th>4</th>\n",
       "      <td>848185</td>\n",
       "      <td>CCN(C(C)=O)c1cccc(-c2ccnc3c(C#N)cnn23)c1</td>\n",
       "      <td>35</td>\n",
       "      <td>[H]</td>\n",
       "      <td>CCN(C(C)=O)c1cc[c]c(-c2ccnc3c(C#N)cnn23)c1</td>\n",
       "      <td>111.722330</td>\n",
       "      <td>C-H</td>\n",
       "      <td>0</td>\n",
       "    </tr>\n",
       "    <tr>\n",
       "      <th>5</th>\n",
       "      <td>848187</td>\n",
       "      <td>CCN(C(C)=O)c1cccc(-c2ccnc3c(C#N)cnn23)c1</td>\n",
       "      <td>37</td>\n",
       "      <td>[H]</td>\n",
       "      <td>CCN(C(C)=O)c1cccc(-c2c[c]nc3c(C#N)cnn23)c1</td>\n",
       "      <td>106.768774</td>\n",
       "      <td>C-H</td>\n",
       "      <td>0</td>\n",
       "    </tr>\n",
       "  </tbody>\n",
       "</table>\n",
       "</div>"
      ],
      "text/plain": [
       "      rid                                  molecule  bond_index fragment1  \\\n",
       "0  848178  CCN(C(C)=O)c1cccc(-c2ccnc3c(C#N)cnn23)c1          28       [H]   \n",
       "2  848183  CCN(C(C)=O)c1cccc(-c2ccnc3c(C#N)cnn23)c1          33       [H]   \n",
       "3  848184  CCN(C(C)=O)c1cccc(-c2ccnc3c(C#N)cnn23)c1          34       [H]   \n",
       "4  848185  CCN(C(C)=O)c1cccc(-c2ccnc3c(C#N)cnn23)c1          35       [H]   \n",
       "5  848187  CCN(C(C)=O)c1cccc(-c2ccnc3c(C#N)cnn23)c1          37       [H]   \n",
       "\n",
       "                                     fragment2         bde bond_type  \\\n",
       "0  C[CH]N(C(C)=O)c1cccc(-c2ccnc3c(C#N)cnn23)c1   92.541262       C-H   \n",
       "2   CCN(C(C)=O)c1[c]ccc(-c2ccnc3c(C#N)cnn23)c1  111.369042       C-H   \n",
       "3   CCN(C(C)=O)c1c[c]cc(-c2ccnc3c(C#N)cnn23)c1  113.550264       C-H   \n",
       "4   CCN(C(C)=O)c1cc[c]c(-c2ccnc3c(C#N)cnn23)c1  111.722330       C-H   \n",
       "5   CCN(C(C)=O)c1cccc(-c2c[c]nc3c(C#N)cnn23)c1  106.768774       C-H   \n",
       "\n",
       "   delta_stereo  \n",
       "0             0  \n",
       "2             0  \n",
       "3             0  \n",
       "4             0  \n",
       "5             0  "
      ]
     },
     "execution_count": 2,
     "metadata": {},
     "output_type": "execute_result"
    }
   ],
   "source": [
    "# rdf = pd.read_csv('drug/drug100_rdf.csv.gz', index_col=0).rename(columns={'radical1': 'fragment1', 'radical2': 'fragment2'})\n",
    "\n",
    "\n",
    "rdf = pd.read_csv('drug/rdf_drug_190509.csv.gz')\n",
    "\n",
    "rdf = rdf.drop_duplicates(subset=['molecule', 'fragment1', 'fragment2'])\n",
    "rdf.head()"
   ]
  },
  {
   "cell_type": "code",
   "execution_count": 3,
   "metadata": {},
   "outputs": [
    {
     "name": "stderr",
     "output_type": "stream",
     "text": [
      "Using TensorFlow backend.\n"
     ]
    }
   ],
   "source": [
    "from keras.backend.tensorflow_backend import set_session\n",
    "import tensorflow as tf\n",
    "config = tf.ConfigProto()\n",
    "config.gpu_options.allow_growth = True  # dynamically grow the memory used on the GPU\n",
    "sess = tf.Session(config=config)\n",
    "set_session(sess)"
   ]
  },
  {
   "cell_type": "code",
   "execution_count": 4,
   "metadata": {},
   "outputs": [
    {
     "name": "stderr",
     "output_type": "stream",
     "text": [
      "100%|██████████| 87/87 [00:00<00:00, 365.32it/s]\n"
     ]
    }
   ],
   "source": [
    "import pickle\n",
    "import gzip\n",
    "\n",
    "with gzip.open('processed_inputs_190531.p.gz', 'rb') as f:\n",
    "    preprocessor_data = pickle.load(f)\n",
    "    \n",
    "preprocessor = preprocessor_data['preprocessor']\n",
    "inputs = preprocessor.predict(rdf.molecule.unique())"
   ]
  },
  {
   "cell_type": "code",
   "execution_count": 5,
   "metadata": {},
   "outputs": [
    {
     "name": "stdout",
     "output_type": "stream",
     "text": [
      "\r",
      "1/1 [==============================] - 2s 2s/step\n"
     ]
    }
   ],
   "source": [
    "from keras.models import load_model\n",
    "from nfp import custom_layers\n",
    "import warnings\n",
    "\n",
    "with warnings.catch_warnings():\n",
    "    warnings.simplefilter('ignore')\n",
    "    model = load_model('layer_runs2/n_message_6/best_model.hdf5', custom_objects=custom_layers)\n",
    "    \n",
    "from preprocessor_utils import ConcatGraphSequence\n",
    "new_pred = model.predict_generator(\n",
    "    ConcatGraphSequence(inputs, batch_size=128, shuffle=False), verbose=1)"
   ]
  },
  {
   "cell_type": "code",
   "execution_count": 6,
   "metadata": {},
   "outputs": [
    {
     "data": {
      "text/html": [
       "<div>\n",
       "<style scoped>\n",
       "    .dataframe tbody tr th:only-of-type {\n",
       "        vertical-align: middle;\n",
       "    }\n",
       "\n",
       "    .dataframe tbody tr th {\n",
       "        vertical-align: top;\n",
       "    }\n",
       "\n",
       "    .dataframe thead th {\n",
       "        text-align: right;\n",
       "    }\n",
       "</style>\n",
       "<table border=\"1\" class=\"dataframe\">\n",
       "  <thead>\n",
       "    <tr style=\"text-align: right;\">\n",
       "      <th></th>\n",
       "      <th>molecule</th>\n",
       "      <th>bond_index</th>\n",
       "      <th>preprocessor_class</th>\n",
       "      <th>mol_index</th>\n",
       "      <th>bde_pred</th>\n",
       "    </tr>\n",
       "  </thead>\n",
       "  <tbody>\n",
       "    <tr>\n",
       "      <th>0</th>\n",
       "      <td>C#C[C@]1(O)CC[C@H]2[C@@H]3CCC4=CC(=O)CC[C@@H]4...</td>\n",
       "      <td>0</td>\n",
       "      <td>25.0</td>\n",
       "      <td>72.0</td>\n",
       "      <td>95.997368</td>\n",
       "    </tr>\n",
       "    <tr>\n",
       "      <th>1</th>\n",
       "      <td>C#C[C@]1(O)CC[C@H]2[C@@H]3CCC4=CC(=O)CC[C@@H]4...</td>\n",
       "      <td>1</td>\n",
       "      <td>2.0</td>\n",
       "      <td>72.0</td>\n",
       "      <td>117.316711</td>\n",
       "    </tr>\n",
       "    <tr>\n",
       "      <th>2</th>\n",
       "      <td>C#C[C@]1(O)CC[C@H]2[C@@H]3CCC4=CC(=O)CC[C@@H]4...</td>\n",
       "      <td>2</td>\n",
       "      <td>4.5</td>\n",
       "      <td>72.0</td>\n",
       "      <td>88.336060</td>\n",
       "    </tr>\n",
       "    <tr>\n",
       "      <th>3</th>\n",
       "      <td>C#C[C@]1(O)CC[C@H]2[C@@H]3CCC4=CC(=O)CC[C@@H]4...</td>\n",
       "      <td>3</td>\n",
       "      <td>27.0</td>\n",
       "      <td>72.0</td>\n",
       "      <td>72.348000</td>\n",
       "    </tr>\n",
       "    <tr>\n",
       "      <th>4</th>\n",
       "      <td>C#C[C@]1(O)CC[C@H]2[C@@H]3CCC4=CC(=O)CC[C@@H]4...</td>\n",
       "      <td>4</td>\n",
       "      <td>27.0</td>\n",
       "      <td>72.0</td>\n",
       "      <td>88.060059</td>\n",
       "    </tr>\n",
       "  </tbody>\n",
       "</table>\n",
       "</div>"
      ],
      "text/plain": [
       "                                            molecule  bond_index  \\\n",
       "0  C#C[C@]1(O)CC[C@H]2[C@@H]3CCC4=CC(=O)CC[C@@H]4...           0   \n",
       "1  C#C[C@]1(O)CC[C@H]2[C@@H]3CCC4=CC(=O)CC[C@@H]4...           1   \n",
       "2  C#C[C@]1(O)CC[C@H]2[C@@H]3CCC4=CC(=O)CC[C@@H]4...           2   \n",
       "3  C#C[C@]1(O)CC[C@H]2[C@@H]3CCC4=CC(=O)CC[C@@H]4...           3   \n",
       "4  C#C[C@]1(O)CC[C@H]2[C@@H]3CCC4=CC(=O)CC[C@@H]4...           4   \n",
       "\n",
       "   preprocessor_class  mol_index    bde_pred  \n",
       "0                25.0       72.0   95.997368  \n",
       "1                 2.0       72.0  117.316711  \n",
       "2                 4.5       72.0   88.336060  \n",
       "3                27.0       72.0   72.348000  \n",
       "4                27.0       72.0   88.060059  "
      ]
     },
     "execution_count": 6,
     "metadata": {},
     "output_type": "execute_result"
    }
   ],
   "source": [
    "def get_df(iinput, smiles, i):\n",
    "    idf = pd.DataFrame(iinput['bond_indices'], columns=['bond_index'])\n",
    "    idf['preprocessor_class'] = iinput['bond']\n",
    "    idf['molecule'] = smiles\n",
    "    idf['mol_index'] = i\n",
    "    return idf\n",
    "\n",
    "y_new_df = pd.concat([\n",
    "    get_df(iinput, smiles, i) for i, (iinput, smiles)\n",
    "    in enumerate(zip(inputs, rdf.molecule.unique()))])\n",
    "\n",
    "y_new_df['bde_pred'] = new_pred\n",
    "y_new_df = y_new_df.groupby(['molecule', 'bond_index']).mean().reset_index()\n",
    "y_new_df.head()"
   ]
  },
  {
   "cell_type": "code",
   "execution_count": 7,
   "metadata": {},
   "outputs": [
    {
     "data": {
      "text/html": [
       "<div>\n",
       "<style scoped>\n",
       "    .dataframe tbody tr th:only-of-type {\n",
       "        vertical-align: middle;\n",
       "    }\n",
       "\n",
       "    .dataframe tbody tr th {\n",
       "        vertical-align: top;\n",
       "    }\n",
       "\n",
       "    .dataframe thead th {\n",
       "        text-align: right;\n",
       "    }\n",
       "</style>\n",
       "<table border=\"1\" class=\"dataframe\">\n",
       "  <thead>\n",
       "    <tr style=\"text-align: right;\">\n",
       "      <th></th>\n",
       "      <th>rid</th>\n",
       "      <th>molecule</th>\n",
       "      <th>bond_index</th>\n",
       "      <th>fragment1</th>\n",
       "      <th>fragment2</th>\n",
       "      <th>bde</th>\n",
       "      <th>bond_type</th>\n",
       "      <th>delta_stereo</th>\n",
       "      <th>bde_pred</th>\n",
       "    </tr>\n",
       "  </thead>\n",
       "  <tbody>\n",
       "    <tr>\n",
       "      <th>0</th>\n",
       "      <td>848178</td>\n",
       "      <td>CCN(C(C)=O)c1cccc(-c2ccnc3c(C#N)cnn23)c1</td>\n",
       "      <td>28</td>\n",
       "      <td>[H]</td>\n",
       "      <td>C[CH]N(C(C)=O)c1cccc(-c2ccnc3c(C#N)cnn23)c1</td>\n",
       "      <td>92.541262</td>\n",
       "      <td>C-H</td>\n",
       "      <td>0</td>\n",
       "      <td>93.702225</td>\n",
       "    </tr>\n",
       "    <tr>\n",
       "      <th>1</th>\n",
       "      <td>848183</td>\n",
       "      <td>CCN(C(C)=O)c1cccc(-c2ccnc3c(C#N)cnn23)c1</td>\n",
       "      <td>33</td>\n",
       "      <td>[H]</td>\n",
       "      <td>CCN(C(C)=O)c1[c]ccc(-c2ccnc3c(C#N)cnn23)c1</td>\n",
       "      <td>111.369042</td>\n",
       "      <td>C-H</td>\n",
       "      <td>0</td>\n",
       "      <td>110.130157</td>\n",
       "    </tr>\n",
       "    <tr>\n",
       "      <th>2</th>\n",
       "      <td>848184</td>\n",
       "      <td>CCN(C(C)=O)c1cccc(-c2ccnc3c(C#N)cnn23)c1</td>\n",
       "      <td>34</td>\n",
       "      <td>[H]</td>\n",
       "      <td>CCN(C(C)=O)c1c[c]cc(-c2ccnc3c(C#N)cnn23)c1</td>\n",
       "      <td>113.550264</td>\n",
       "      <td>C-H</td>\n",
       "      <td>0</td>\n",
       "      <td>110.648926</td>\n",
       "    </tr>\n",
       "    <tr>\n",
       "      <th>3</th>\n",
       "      <td>848185</td>\n",
       "      <td>CCN(C(C)=O)c1cccc(-c2ccnc3c(C#N)cnn23)c1</td>\n",
       "      <td>35</td>\n",
       "      <td>[H]</td>\n",
       "      <td>CCN(C(C)=O)c1cc[c]c(-c2ccnc3c(C#N)cnn23)c1</td>\n",
       "      <td>111.722330</td>\n",
       "      <td>C-H</td>\n",
       "      <td>0</td>\n",
       "      <td>112.210480</td>\n",
       "    </tr>\n",
       "    <tr>\n",
       "      <th>4</th>\n",
       "      <td>848187</td>\n",
       "      <td>CCN(C(C)=O)c1cccc(-c2ccnc3c(C#N)cnn23)c1</td>\n",
       "      <td>37</td>\n",
       "      <td>[H]</td>\n",
       "      <td>CCN(C(C)=O)c1cccc(-c2c[c]nc3c(C#N)cnn23)c1</td>\n",
       "      <td>106.768774</td>\n",
       "      <td>C-H</td>\n",
       "      <td>0</td>\n",
       "      <td>108.150131</td>\n",
       "    </tr>\n",
       "  </tbody>\n",
       "</table>\n",
       "</div>"
      ],
      "text/plain": [
       "      rid                                  molecule  bond_index fragment1  \\\n",
       "0  848178  CCN(C(C)=O)c1cccc(-c2ccnc3c(C#N)cnn23)c1          28       [H]   \n",
       "1  848183  CCN(C(C)=O)c1cccc(-c2ccnc3c(C#N)cnn23)c1          33       [H]   \n",
       "2  848184  CCN(C(C)=O)c1cccc(-c2ccnc3c(C#N)cnn23)c1          34       [H]   \n",
       "3  848185  CCN(C(C)=O)c1cccc(-c2ccnc3c(C#N)cnn23)c1          35       [H]   \n",
       "4  848187  CCN(C(C)=O)c1cccc(-c2ccnc3c(C#N)cnn23)c1          37       [H]   \n",
       "\n",
       "                                     fragment2         bde bond_type  \\\n",
       "0  C[CH]N(C(C)=O)c1cccc(-c2ccnc3c(C#N)cnn23)c1   92.541262       C-H   \n",
       "1   CCN(C(C)=O)c1[c]ccc(-c2ccnc3c(C#N)cnn23)c1  111.369042       C-H   \n",
       "2   CCN(C(C)=O)c1c[c]cc(-c2ccnc3c(C#N)cnn23)c1  113.550264       C-H   \n",
       "3   CCN(C(C)=O)c1cc[c]c(-c2ccnc3c(C#N)cnn23)c1  111.722330       C-H   \n",
       "4   CCN(C(C)=O)c1cccc(-c2c[c]nc3c(C#N)cnn23)c1  106.768774       C-H   \n",
       "\n",
       "   delta_stereo    bde_pred  \n",
       "0             0   93.702225  \n",
       "1             0  110.130157  \n",
       "2             0  110.648926  \n",
       "3             0  112.210480  \n",
       "4             0  108.150131  "
      ]
     },
     "execution_count": 7,
     "metadata": {},
     "output_type": "execute_result"
    }
   ],
   "source": [
    "db_with_pred = rdf.merge(\n",
    "    y_new_df[['molecule', 'bond_index', 'bde_pred']],\n",
    "    on=['molecule', 'bond_index'], how='left')\n",
    "\n",
    "db_with_pred.head()"
   ]
  },
  {
   "cell_type": "code",
   "execution_count": 17,
   "metadata": {},
   "outputs": [
    {
     "data": {
      "image/png": "[encoded data removed]",
      "text/plain": [
       "<Figure size 288x288 with 1 Axes>"
      ]
     },
     "metadata": {
      "needs_background": "light"
     },
     "output_type": "display_data"
    }
   ],
   "source": [
    "fig = plt.figure(figsize=(4,4))\n",
    "ax = fig.add_subplot(111, aspect='equal')\n",
    "plt.plot(db_with_pred.bde, db_with_pred.bde_pred, '.', ms=2.5)\n",
    "plt.plot([50, 150], [50, 150], '--', zorder=0, color='.6')\n",
    "\n",
    "ax.text(.05, .875,\n",
    "        'MAE: {:0.2f} kcal/mol'.format((db_with_pred.bde - db_with_pred.bde_pred).abs().mean()),\n",
    "        transform=ax.transAxes, ha='left', va='top', fontsize='large')\n",
    "\n",
    "ax.set_yticks([50, 100, 150])\n",
    "\n",
    "sns.despine(offset=10, trim=True)\n",
    "\n",
    "ax.set_ylabel('ML (kcal/mol)')\n",
    "ax.set_xlabel('DFT (kcal/mol)')\n",
    "\n",
    "plt.tight_layout()\n",
    "plt.savefig('drug_predictions.svg')"
   ]
  },
  {
   "cell_type": "code",
   "execution_count": 9,
   "metadata": {},
   "outputs": [
    {
     "data": {
      "text/plain": [
       "(748, 8)"
      ]
     },
     "execution_count": 9,
     "metadata": {},
     "output_type": "execute_result"
    }
   ],
   "source": [
    "rdf.shape"
   ]
  },
  {
   "cell_type": "code",
   "execution_count": 10,
   "metadata": {},
   "outputs": [
    {
     "data": {
      "text/plain": [
       "87"
      ]
     },
     "execution_count": 10,
     "metadata": {},
     "output_type": "execute_result"
    }
   ],
   "source": [
    "len(rdf.molecule.unique())"
   ]
  },
  {
   "cell_type": "code",
   "execution_count": 11,
   "metadata": {},
   "outputs": [
    {
     "data": {
      "text/plain": [
       "(748, 9)"
      ]
     },
     "execution_count": 11,
     "metadata": {},
     "output_type": "execute_result"
    }
   ],
   "source": [
    "db_with_pred.shape"
   ]
  }
 ],
 "metadata": {
  "kernelspec": {
   "display_name": "Python 3",
   "language": "python",
   "name": "python3"
  },
  "language_info": {
   "codemirror_mode": {
    "name": "ipython",
    "version": 3
   },
   "file_extension": ".py",
   "mimetype": "text/x-python",
   "name": "python",
   "nbconvert_exporter": "python",
   "pygments_lexer": "ipython3",
   "version": "3.7.3"
  }
 },
 "nbformat": 4,
 "nbformat_minor": 2
}
